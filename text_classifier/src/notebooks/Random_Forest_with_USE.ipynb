{
 "cells": [
  {
   "cell_type": "code",
   "execution_count": 2,
   "id": "244df2e2",
   "metadata": {},
   "outputs": [],
   "source": [
    "import numpy as np\n",
    "import pandas as pd"
   ]
  },
  {
   "cell_type": "code",
   "execution_count": 16,
   "id": "d2eb3bce",
   "metadata": {},
   "outputs": [],
   "source": [
    "from sklearn.model_selection import train_test_split\n",
    "from sklearn.ensemble import RandomForestClassifier"
   ]
  },
  {
   "cell_type": "code",
   "execution_count": 3,
   "id": "aa42914f",
   "metadata": {},
   "outputs": [],
   "source": [
    "import tensorflow_hub as hub"
   ]
  },
  {
   "cell_type": "code",
   "execution_count": 11,
   "id": "0772b990",
   "metadata": {},
   "outputs": [],
   "source": [
    "use_model_version = '4'\n",
    "module_url = \"https://tfhub.dev/google/universal-sentence-encoder/\" + use_model_version\n",
    "get_use_embd = hub.load(module_url)"
   ]
  },
  {
   "cell_type": "code",
   "execution_count": 4,
   "id": "5bd3a0eb",
   "metadata": {},
   "outputs": [],
   "source": [
    "df = pd.read_csv(\"train_set.csv\",encoding='latin-1')"
   ]
  },
  {
   "cell_type": "code",
   "execution_count": 5,
   "id": "fae83571",
   "metadata": {},
   "outputs": [],
   "source": [
    "df_test = pd.read_csv(\"test_set.csv\")"
   ]
  },
  {
   "cell_type": "code",
   "execution_count": 6,
   "id": "2bdb919f",
   "metadata": {},
   "outputs": [],
   "source": [
    "df = df.sample(frac=1).reset_index(drop=True)"
   ]
  },
  {
   "cell_type": "code",
   "execution_count": 7,
   "id": "893199cf",
   "metadata": {},
   "outputs": [
    {
     "data": {
      "text/plain": [
       "85389000    2936\n",
       "85177090    2581\n",
       "85369090    2438\n",
       "39269099    2189\n",
       "73181500    2033\n",
       "85366990    1944\n",
       "85238090    1720\n",
       "85364900    1714\n",
       "87089900    1673\n",
       "33041000    1605\n",
       "87082900    1451\n",
       "84713010    1331\n",
       "Name: label, dtype: int64"
      ]
     },
     "execution_count": 7,
     "metadata": {},
     "output_type": "execute_result"
    }
   ],
   "source": [
    "df.label.value_counts()"
   ]
  },
  {
   "cell_type": "code",
   "execution_count": 8,
   "id": "db619602",
   "metadata": {},
   "outputs": [],
   "source": [
    "label_dict = {85389000:0,\n",
    "85177090:1,\n",
    "85369090:2,\n",
    "39269099:3,\n",
    "73181500:4,\n",
    "85366990:5,\n",
    "85238090:6,\n",
    "85364900:7,\n",
    "87089900:8,\n",
    "33041000:9,\n",
    "87082900:10,\n",
    "84713010:11}"
   ]
  },
  {
   "cell_type": "code",
   "execution_count": 9,
   "id": "2bda89db",
   "metadata": {},
   "outputs": [],
   "source": [
    "df['label'] = df['label'].map(label_dict)"
   ]
  },
  {
   "cell_type": "code",
   "execution_count": 10,
   "id": "2eb2c1d3",
   "metadata": {},
   "outputs": [
    {
     "data": {
      "text/html": [
       "<div>\n",
       "<style scoped>\n",
       "    .dataframe tbody tr th:only-of-type {\n",
       "        vertical-align: middle;\n",
       "    }\n",
       "\n",
       "    .dataframe tbody tr th {\n",
       "        vertical-align: top;\n",
       "    }\n",
       "\n",
       "    .dataframe thead th {\n",
       "        text-align: right;\n",
       "    }\n",
       "</style>\n",
       "<table border=\"1\" class=\"dataframe\">\n",
       "  <thead>\n",
       "    <tr style=\"text-align: right;\">\n",
       "      <th></th>\n",
       "      <th>label</th>\n",
       "      <th>text</th>\n",
       "    </tr>\n",
       "  </thead>\n",
       "  <tbody>\n",
       "    <tr>\n",
       "      <th>0</th>\n",
       "      <td>3</td>\n",
       "      <td>frit adapter mm pk</td>\n",
       "    </tr>\n",
       "    <tr>\n",
       "      <th>1</th>\n",
       "      <td>4</td>\n",
       "      <td>screw scrmc bin mc x cr m car audio parts actu...</td>\n",
       "    </tr>\n",
       "    <tr>\n",
       "      <th>2</th>\n",
       "      <td>10</td>\n",
       "      <td>vd wc lining pillar c automotive parts for cap...</td>\n",
       "    </tr>\n",
       "    <tr>\n",
       "      <th>3</th>\n",
       "      <td>2</td>\n",
       "      <td>tkt  st  terminal  connection and contact elem...</td>\n",
       "    </tr>\n",
       "    <tr>\n",
       "      <th>4</th>\n",
       "      <td>0</td>\n",
       "      <td>ra operating mechanism assembly t parts for ci...</td>\n",
       "    </tr>\n",
       "  </tbody>\n",
       "</table>\n",
       "</div>"
      ],
      "text/plain": [
       "   label                                               text\n",
       "0      3                                 frit adapter mm pk\n",
       "1      4  screw scrmc bin mc x cr m car audio parts actu...\n",
       "2     10  vd wc lining pillar c automotive parts for cap...\n",
       "3      2  tkt  st  terminal  connection and contact elem...\n",
       "4      0  ra operating mechanism assembly t parts for ci..."
      ]
     },
     "execution_count": 10,
     "metadata": {},
     "output_type": "execute_result"
    }
   ],
   "source": [
    "df.head()"
   ]
  },
  {
   "cell_type": "code",
   "execution_count": null,
   "id": "e3d1f6ed",
   "metadata": {},
   "outputs": [],
   "source": []
  },
  {
   "cell_type": "code",
   "execution_count": 12,
   "id": "39eecc77",
   "metadata": {},
   "outputs": [],
   "source": [
    "df_use_embed = pd.DataFrame(columns=range(512))"
   ]
  },
  {
   "cell_type": "code",
   "execution_count": 13,
   "id": "bd0902e7",
   "metadata": {},
   "outputs": [],
   "source": [
    "# Vectorization sometimes gives resourceExhaustedError here due to high dimensionality(512) of USE features\n",
    "for i in range(df.shape[0]):\n",
    "    use_embeddings=get_use_embd(np.array([df.text[i]]))\n",
    "    df_use_embed=df_use_embed.append(pd.Series(use_embeddings.numpy().ravel()),ignore_index=True)"
   ]
  },
  {
   "cell_type": "code",
   "execution_count": 14,
   "id": "88a660cd",
   "metadata": {},
   "outputs": [],
   "source": [
    "df = pd.concat([df,df_use_embed],axis=1)"
   ]
  },
  {
   "cell_type": "code",
   "execution_count": 17,
   "id": "37f25bb6",
   "metadata": {},
   "outputs": [],
   "source": [
    "dftrain, dtest = train_test_split(df,train_size=0.85)"
   ]
  },
  {
   "cell_type": "code",
   "execution_count": 18,
   "id": "561e3ec5",
   "metadata": {},
   "outputs": [],
   "source": [
    "model = RandomForestClassifier()"
   ]
  },
  {
   "cell_type": "code",
   "execution_count": 19,
   "id": "500e4262",
   "metadata": {},
   "outputs": [
    {
     "data": {
      "text/plain": [
       "RandomForestClassifier()"
      ]
     },
     "execution_count": 19,
     "metadata": {},
     "output_type": "execute_result"
    }
   ],
   "source": [
    "model.fit(dftrain.iloc[:,2:],dftrain['label'])"
   ]
  },
  {
   "cell_type": "code",
   "execution_count": 20,
   "id": "7f6ae1cb",
   "metadata": {},
   "outputs": [
    {
     "data": {
      "text/plain": [
       "0.9178662150719729"
      ]
     },
     "execution_count": 20,
     "metadata": {},
     "output_type": "execute_result"
    }
   ],
   "source": [
    "model.score(dtest.iloc[:,2:],dtest['label'])"
   ]
  },
  {
   "cell_type": "code",
   "execution_count": 22,
   "id": "bc00420e",
   "metadata": {},
   "outputs": [],
   "source": [
    "y_test_pred = model.predict(dtest.iloc[:,2:])"
   ]
  },
  {
   "cell_type": "code",
   "execution_count": 23,
   "id": "82dfcc84",
   "metadata": {},
   "outputs": [
    {
     "data": {
      "text/plain": [
       "{'0': {'precision': 0.8154761904761905,\n",
       "  'recall': 0.9405034324942791,\n",
       "  'f1-score': 0.8735387885228479,\n",
       "  'support': 437},\n",
       " '1': {'precision': 0.9667458432304038,\n",
       "  'recall': 0.9760191846522782,\n",
       "  'f1-score': 0.9713603818615751,\n",
       "  'support': 417},\n",
       " '2': {'precision': 0.9,\n",
       "  'recall': 0.8421052631578947,\n",
       "  'f1-score': 0.8700906344410877,\n",
       "  'support': 342},\n",
       " '3': {'precision': 0.7938144329896907,\n",
       "  'recall': 0.8825214899713467,\n",
       "  'f1-score': 0.8358208955223881,\n",
       "  'support': 349},\n",
       " '4': {'precision': 0.9283154121863799,\n",
       "  'recall': 0.8519736842105263,\n",
       "  'f1-score': 0.8885077186963979,\n",
       "  'support': 304},\n",
       " '5': {'precision': 0.9479553903345725,\n",
       "  'recall': 0.8585858585858586,\n",
       "  'f1-score': 0.9010600706713782,\n",
       "  'support': 297},\n",
       " '6': {'precision': 1.0,\n",
       "  'recall': 0.9844961240310077,\n",
       "  'f1-score': 0.9921875,\n",
       "  'support': 258},\n",
       " '7': {'precision': 0.9752066115702479,\n",
       "  'recall': 0.9365079365079365,\n",
       "  'f1-score': 0.9554655870445344,\n",
       "  'support': 252},\n",
       " '8': {'precision': 0.9009009009009009,\n",
       "  'recall': 0.8810572687224669,\n",
       "  'f1-score': 0.89086859688196,\n",
       "  'support': 227},\n",
       " '9': {'precision': 1.0,\n",
       "  'recall': 0.9917695473251029,\n",
       "  'f1-score': 0.9958677685950413,\n",
       "  'support': 243},\n",
       " '10': {'precision': 0.966824644549763,\n",
       "  'recall': 0.9107142857142857,\n",
       "  'f1-score': 0.9379310344827585,\n",
       "  'support': 224},\n",
       " '11': {'precision': 0.984375,\n",
       "  'recall': 0.9792746113989638,\n",
       "  'f1-score': 0.9818181818181819,\n",
       "  'support': 193},\n",
       " 'accuracy': 0.9178662150719729,\n",
       " 'macro avg': {'precision': 0.9316345355198458,\n",
       "  'recall': 0.919627390564329,\n",
       "  'f1-score': 0.9245430965448459,\n",
       "  'support': 3543},\n",
       " 'weighted avg': {'precision': 0.9217887810363977,\n",
       "  'recall': 0.9178662150719729,\n",
       "  'f1-score': 0.9185322071185721,\n",
       "  'support': 3543}}"
      ]
     },
     "execution_count": 23,
     "metadata": {},
     "output_type": "execute_result"
    }
   ],
   "source": [
    "from sklearn.metrics import classification_report\n",
    "classification_report(dtest['label'], y_test_pred, output_dict=True)"
   ]
  },
  {
   "cell_type": "code",
   "execution_count": 24,
   "id": "d92658f5",
   "metadata": {},
   "outputs": [
    {
     "name": "stdout",
     "output_type": "stream",
     "text": [
      "              precision    recall  f1-score   support\n",
      "\n",
      "           0       0.82      0.94      0.87       437\n",
      "           1       0.97      0.98      0.97       417\n",
      "           2       0.90      0.84      0.87       342\n",
      "           3       0.79      0.88      0.84       349\n",
      "           4       0.93      0.85      0.89       304\n",
      "           5       0.95      0.86      0.90       297\n",
      "           6       1.00      0.98      0.99       258\n",
      "           7       0.98      0.94      0.96       252\n",
      "           8       0.90      0.88      0.89       227\n",
      "           9       1.00      0.99      1.00       243\n",
      "          10       0.97      0.91      0.94       224\n",
      "          11       0.98      0.98      0.98       193\n",
      "\n",
      "    accuracy                           0.92      3543\n",
      "   macro avg       0.93      0.92      0.92      3543\n",
      "weighted avg       0.92      0.92      0.92      3543\n",
      "\n"
     ]
    }
   ],
   "source": [
    "print(classification_report(dtest['label'], y_test_pred))"
   ]
  },
  {
   "cell_type": "code",
   "execution_count": null,
   "id": "090422a6",
   "metadata": {},
   "outputs": [],
   "source": []
  }
 ],
 "metadata": {
  "kernelspec": {
   "display_name": "Python 3",
   "language": "python",
   "name": "python3"
  },
  "language_info": {
   "codemirror_mode": {
    "name": "ipython",
    "version": 3
   },
   "file_extension": ".py",
   "mimetype": "text/x-python",
   "name": "python",
   "nbconvert_exporter": "python",
   "pygments_lexer": "ipython3",
   "version": "3.7.10"
  }
 },
 "nbformat": 4,
 "nbformat_minor": 5
}
