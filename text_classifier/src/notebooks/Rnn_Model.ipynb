{
 "cells": [
  {
   "cell_type": "code",
   "execution_count": 2,
   "id": "26ac06cc",
   "metadata": {},
   "outputs": [],
   "source": [
    "import numpy as np\n",
    "import pandas as pd"
   ]
  },
  {
   "cell_type": "code",
   "execution_count": 3,
   "id": "31472b96",
   "metadata": {},
   "outputs": [],
   "source": [
    "from sklearn.model_selection import train_test_split\n",
    "from sklearn.metrics import mean_squared_error\n",
    "import keras\n",
    "import keras.layers as layers\n",
    "import tensorflow as tf"
   ]
  },
  {
   "cell_type": "code",
   "execution_count": 4,
   "id": "487a3844",
   "metadata": {},
   "outputs": [],
   "source": [
    "from keras.preprocessing.text import Tokenizer\n",
    "from keras.preprocessing.sequence import pad_sequences"
   ]
  },
  {
   "cell_type": "code",
   "execution_count": 5,
   "id": "1f34de23",
   "metadata": {},
   "outputs": [],
   "source": [
    "from keras.layers import Input, Dropout, Dense, BatchNormalization, Activation, concatenate, GRU, Embedding, Flatten\n",
    "from keras.models import Model\n",
    "from keras.callbacks import ModelCheckpoint, Callback, EarlyStopping\n",
    "from keras import backend as K\n",
    "import pickle"
   ]
  },
  {
   "cell_type": "code",
   "execution_count": 6,
   "id": "4954a161",
   "metadata": {},
   "outputs": [],
   "source": [
    "df = pd.read_csv(\"train_set.csv\",encoding='latin-1')"
   ]
  },
  {
   "cell_type": "code",
   "execution_count": 7,
   "id": "6b14e048",
   "metadata": {},
   "outputs": [],
   "source": [
    "df_test = pd.read_csv(\"test_set.csv\")"
   ]
  },
  {
   "cell_type": "code",
   "execution_count": 8,
   "id": "c04513da",
   "metadata": {},
   "outputs": [
    {
     "data": {
      "text/html": [
       "<div>\n",
       "<style scoped>\n",
       "    .dataframe tbody tr th:only-of-type {\n",
       "        vertical-align: middle;\n",
       "    }\n",
       "\n",
       "    .dataframe tbody tr th {\n",
       "        vertical-align: top;\n",
       "    }\n",
       "\n",
       "    .dataframe thead th {\n",
       "        text-align: right;\n",
       "    }\n",
       "</style>\n",
       "<table border=\"1\" class=\"dataframe\">\n",
       "  <thead>\n",
       "    <tr style=\"text-align: right;\">\n",
       "      <th></th>\n",
       "      <th>label</th>\n",
       "      <th>text</th>\n",
       "    </tr>\n",
       "  </thead>\n",
       "  <tbody>\n",
       "    <tr>\n",
       "      <th>0</th>\n",
       "      <td>85389000</td>\n",
       "      <td>pdscpm gb part of panel of chiller</td>\n",
       "    </tr>\n",
       "    <tr>\n",
       "      <th>1</th>\n",
       "      <td>85389000</td>\n",
       "      <td>nm  p economical extended rot hand parts for c...</td>\n",
       "    </tr>\n",
       "    <tr>\n",
       "      <th>2</th>\n",
       "      <td>85389000</td>\n",
       "      <td>lv ma pd trip unit for cvs parts of circuit br...</td>\n",
       "    </tr>\n",
       "    <tr>\n",
       "      <th>3</th>\n",
       "      <td>85389000</td>\n",
       "      <td>lv na p trip unit for cvs switch parts of circ...</td>\n",
       "    </tr>\n",
       "    <tr>\n",
       "      <th>4</th>\n",
       "      <td>85389000</td>\n",
       "      <td>lv tmd pd trip unit for cvs parts of circuitbr...</td>\n",
       "    </tr>\n",
       "  </tbody>\n",
       "</table>\n",
       "</div>"
      ],
      "text/plain": [
       "      label                                               text\n",
       "0  85389000                 pdscpm gb part of panel of chiller\n",
       "1  85389000  nm  p economical extended rot hand parts for c...\n",
       "2  85389000  lv ma pd trip unit for cvs parts of circuit br...\n",
       "3  85389000  lv na p trip unit for cvs switch parts of circ...\n",
       "4  85389000  lv tmd pd trip unit for cvs parts of circuitbr..."
      ]
     },
     "execution_count": 8,
     "metadata": {},
     "output_type": "execute_result"
    }
   ],
   "source": [
    "df.head()"
   ]
  },
  {
   "cell_type": "code",
   "execution_count": 9,
   "id": "b5d023c1",
   "metadata": {},
   "outputs": [],
   "source": [
    "df = df.sample(frac=1).reset_index(drop=True)"
   ]
  },
  {
   "cell_type": "code",
   "execution_count": 12,
   "id": "82e1b57c",
   "metadata": {},
   "outputs": [
    {
     "data": {
      "text/plain": [
       "85389000    2936\n",
       "85177090    2581\n",
       "85369090    2438\n",
       "39269099    2189\n",
       "73181500    2033\n",
       "85366990    1944\n",
       "85238090    1720\n",
       "85364900    1714\n",
       "87089900    1673\n",
       "33041000    1605\n",
       "87082900    1451\n",
       "84713010    1331\n",
       "Name: label, dtype: int64"
      ]
     },
     "execution_count": 12,
     "metadata": {},
     "output_type": "execute_result"
    }
   ],
   "source": [
    "df.label.value_counts()"
   ]
  },
  {
   "cell_type": "code",
   "execution_count": 13,
   "id": "133575d3",
   "metadata": {},
   "outputs": [],
   "source": [
    "label_dict = {85389000:0,\n",
    "85177090:1,\n",
    "85369090:2,\n",
    "39269099:3,\n",
    "73181500:4,\n",
    "85366990:5,\n",
    "85238090:6,\n",
    "85364900:7,\n",
    "87089900:8,\n",
    "33041000:9,\n",
    "87082900:10,\n",
    "84713010:11}"
   ]
  },
  {
   "cell_type": "code",
   "execution_count": 14,
   "id": "f1b31279",
   "metadata": {},
   "outputs": [],
   "source": [
    "df['label'] = df['label'].map(label_dict)"
   ]
  },
  {
   "cell_type": "code",
   "execution_count": 15,
   "id": "8d44f110",
   "metadata": {},
   "outputs": [
    {
     "data": {
      "text/html": [
       "<div>\n",
       "<style scoped>\n",
       "    .dataframe tbody tr th:only-of-type {\n",
       "        vertical-align: middle;\n",
       "    }\n",
       "\n",
       "    .dataframe tbody tr th {\n",
       "        vertical-align: top;\n",
       "    }\n",
       "\n",
       "    .dataframe thead th {\n",
       "        text-align: right;\n",
       "    }\n",
       "</style>\n",
       "<table border=\"1\" class=\"dataframe\">\n",
       "  <thead>\n",
       "    <tr style=\"text-align: right;\">\n",
       "      <th></th>\n",
       "      <th>label</th>\n",
       "      <th>text</th>\n",
       "    </tr>\n",
       "  </thead>\n",
       "  <tbody>\n",
       "    <tr>\n",
       "      <th>0</th>\n",
       "      <td>5</td>\n",
       "      <td>pnsi connector list  sl  pf cable harness</td>\n",
       "    </tr>\n",
       "    <tr>\n",
       "      <th>1</th>\n",
       "      <td>1</td>\n",
       "      <td>non lte non sdh equipment card trage  bkaacasr...</td>\n",
       "    </tr>\n",
       "    <tr>\n",
       "      <th>2</th>\n",
       "      <td>0</td>\n",
       "      <td>programmable controller fxu  mt es japan origin</td>\n",
       "    </tr>\n",
       "    <tr>\n",
       "      <th>3</th>\n",
       "      <td>11</td>\n",
       "      <td>ahpc pguuqnninnnnnubshp laptophstnnqcr</td>\n",
       "    </tr>\n",
       "    <tr>\n",
       "      <th>4</th>\n",
       "      <td>6</td>\n",
       "      <td>issue edis update dvd  part no p</td>\n",
       "    </tr>\n",
       "  </tbody>\n",
       "</table>\n",
       "</div>"
      ],
      "text/plain": [
       "   label                                               text\n",
       "0      5          pnsi connector list  sl  pf cable harness\n",
       "1      1  non lte non sdh equipment card trage  bkaacasr...\n",
       "2      0    programmable controller fxu  mt es japan origin\n",
       "3     11             ahpc pguuqnninnnnnubshp laptophstnnqcr\n",
       "4      6                   issue edis update dvd  part no p"
      ]
     },
     "execution_count": 15,
     "metadata": {},
     "output_type": "execute_result"
    }
   ],
   "source": [
    "df.head()"
   ]
  },
  {
   "cell_type": "code",
   "execution_count": 16,
   "id": "24e2cb65",
   "metadata": {},
   "outputs": [],
   "source": [
    "dftrain, dtest = train_test_split(df,train_size=0.85)"
   ]
  },
  {
   "cell_type": "code",
   "execution_count": 17,
   "id": "dc1f3558",
   "metadata": {},
   "outputs": [],
   "source": [
    "dtrain, dval = train_test_split(dftrain,train_size=0.85)"
   ]
  },
  {
   "cell_type": "code",
   "execution_count": 18,
   "id": "14e5aeeb",
   "metadata": {},
   "outputs": [
    {
     "data": {
      "text/plain": [
       "((17061, 2), (3011, 2), (3543, 2))"
      ]
     },
     "execution_count": 18,
     "metadata": {},
     "output_type": "execute_result"
    }
   ],
   "source": [
    "(dtrain.shape, dval.shape, dtest.shape)"
   ]
  },
  {
   "cell_type": "code",
   "execution_count": 19,
   "id": "3cf13c13",
   "metadata": {},
   "outputs": [
    {
     "name": "stderr",
     "output_type": "stream",
     "text": [
      "C:\\Users\\Anshul Shaive\\anaconda3\\envs\\tf\\lib\\site-packages\\ipykernel_launcher.py:6: SettingWithCopyWarning: \n",
      "A value is trying to be set on a copy of a slice from a DataFrame.\n",
      "Try using .loc[row_indexer,col_indexer] = value instead\n",
      "\n",
      "See the caveats in the documentation: https://pandas.pydata.org/pandas-docs/stable/user_guide/indexing.html#returning-a-view-versus-a-copy\n",
      "  \n",
      "C:\\Users\\Anshul Shaive\\anaconda3\\envs\\tf\\lib\\site-packages\\ipykernel_launcher.py:7: SettingWithCopyWarning: \n",
      "A value is trying to be set on a copy of a slice from a DataFrame.\n",
      "Try using .loc[row_indexer,col_indexer] = value instead\n",
      "\n",
      "See the caveats in the documentation: https://pandas.pydata.org/pandas-docs/stable/user_guide/indexing.html#returning-a-view-versus-a-copy\n",
      "  import sys\n",
      "C:\\Users\\Anshul Shaive\\anaconda3\\envs\\tf\\lib\\site-packages\\ipykernel_launcher.py:8: SettingWithCopyWarning: \n",
      "A value is trying to be set on a copy of a slice from a DataFrame.\n",
      "Try using .loc[row_indexer,col_indexer] = value instead\n",
      "\n",
      "See the caveats in the documentation: https://pandas.pydata.org/pandas-docs/stable/user_guide/indexing.html#returning-a-view-versus-a-copy\n",
      "  \n"
     ]
    }
   ],
   "source": [
    "tok_raw = Tokenizer()\n",
    "\n",
    "raw_text = np.hstack([dtrain.text.str.lower(), dval.text.str.lower(), dtest.text.str.lower()])\n",
    "tok_raw.fit_on_texts(raw_text)\n",
    "\n",
    "dtrain[\"text\"] = tok_raw.texts_to_sequences(dtrain.text.str.lower())\n",
    "dval[\"text\"] = tok_raw.texts_to_sequences(dval.text.str.lower())\n",
    "dtest[\"text\"] = tok_raw.texts_to_sequences(dtest.text.str.lower())"
   ]
  },
  {
   "cell_type": "code",
   "execution_count": 20,
   "id": "eb27048f",
   "metadata": {},
   "outputs": [
    {
     "data": {
      "text/html": [
       "<div>\n",
       "<style scoped>\n",
       "    .dataframe tbody tr th:only-of-type {\n",
       "        vertical-align: middle;\n",
       "    }\n",
       "\n",
       "    .dataframe tbody tr th {\n",
       "        vertical-align: top;\n",
       "    }\n",
       "\n",
       "    .dataframe thead th {\n",
       "        text-align: right;\n",
       "    }\n",
       "</style>\n",
       "<table border=\"1\" class=\"dataframe\">\n",
       "  <thead>\n",
       "    <tr style=\"text-align: right;\">\n",
       "      <th></th>\n",
       "      <th>label</th>\n",
       "      <th>text</th>\n",
       "    </tr>\n",
       "  </thead>\n",
       "  <tbody>\n",
       "    <tr>\n",
       "      <th>2025</th>\n",
       "      <td>2</td>\n",
       "      <td>[46, 1, 1475, 448, 134, 87, 1200, 109, 64, 183...</td>\n",
       "    </tr>\n",
       "    <tr>\n",
       "      <th>7841</th>\n",
       "      <td>6</td>\n",
       "      <td>[14, 15, 13, 8, 9, 3, 4]</td>\n",
       "    </tr>\n",
       "    <tr>\n",
       "      <th>13596</th>\n",
       "      <td>9</td>\n",
       "      <td>[710, 1201, 1201, 1022, 618]</td>\n",
       "    </tr>\n",
       "    <tr>\n",
       "      <th>13872</th>\n",
       "      <td>0</td>\n",
       "      <td>[1099, 425, 266, 2, 1, 54, 125]</td>\n",
       "    </tr>\n",
       "    <tr>\n",
       "      <th>17641</th>\n",
       "      <td>3</td>\n",
       "      <td>[4792, 4792, 7021, 7022, 1100]</td>\n",
       "    </tr>\n",
       "  </tbody>\n",
       "</table>\n",
       "</div>"
      ],
      "text/plain": [
       "       label                                               text\n",
       "2025       2  [46, 1, 1475, 448, 134, 87, 1200, 109, 64, 183...\n",
       "7841       6                           [14, 15, 13, 8, 9, 3, 4]\n",
       "13596      9                       [710, 1201, 1201, 1022, 618]\n",
       "13872      0                    [1099, 425, 266, 2, 1, 54, 125]\n",
       "17641      3                     [4792, 4792, 7021, 7022, 1100]"
      ]
     },
     "execution_count": 20,
     "metadata": {},
     "output_type": "execute_result"
    }
   ],
   "source": [
    "dtrain.head()"
   ]
  },
  {
   "cell_type": "code",
   "execution_count": 21,
   "id": "77a45764",
   "metadata": {},
   "outputs": [
    {
     "name": "stdout",
     "output_type": "stream",
     "text": [
      "max name seq 21\n"
     ]
    }
   ],
   "source": [
    "#SEQUENCE VARIABLES ANALYSIS\n",
    "max_text_seq = np.max( [np.max(dtrain.text.apply(lambda x: len(x))), \n",
    "                        np.max(dval.text.apply(lambda x: len(x))),\n",
    "                        np.max(dtest.text.apply(lambda x: len(x))),\n",
    "                        ] )\n",
    "print(\"max name seq \"+str(max_text_seq))"
   ]
  },
  {
   "cell_type": "code",
   "execution_count": 22,
   "id": "f906065b",
   "metadata": {},
   "outputs": [
    {
     "data": {
      "text/plain": [
       "<AxesSubplot:>"
      ]
     },
     "execution_count": 22,
     "metadata": {},
     "output_type": "execute_result"
    },
    {
     "data": {
      "image/png": "[encoded data removed]",
      "text/plain": [
       "<Figure size 432x288 with 1 Axes>"
      ]
     },
     "metadata": {
      "needs_background": "light"
     },
     "output_type": "display_data"
    }
   ],
   "source": [
    "dtrain.text.apply(lambda x: len(x)).hist()"
   ]
  },
  {
   "cell_type": "code",
   "execution_count": 23,
   "id": "d979a257",
   "metadata": {},
   "outputs": [
    {
     "data": {
      "text/plain": [
       "<AxesSubplot:>"
      ]
     },
     "execution_count": 23,
     "metadata": {},
     "output_type": "execute_result"
    },
    {
     "data": {
      "image/png": "[encoded data removed]",
      "text/plain": [
       "<Figure size 432x288 with 1 Axes>"
      ]
     },
     "metadata": {
      "needs_background": "light"
     },
     "output_type": "display_data"
    }
   ],
   "source": [
    "dval.text.apply(lambda x: len(x)).hist()"
   ]
  },
  {
   "cell_type": "code",
   "execution_count": 24,
   "id": "01cdce0e",
   "metadata": {},
   "outputs": [
    {
     "data": {
      "text/plain": [
       "<AxesSubplot:>"
      ]
     },
     "execution_count": 24,
     "metadata": {},
     "output_type": "execute_result"
    },
    {
     "data": {
      "image/png": "[encoded data removed]",
      "text/plain": [
       "<Figure size 432x288 with 1 Axes>"
      ]
     },
     "metadata": {
      "needs_background": "light"
     },
     "output_type": "display_data"
    }
   ],
   "source": [
    "dtest.text.apply(lambda x: len(x)).hist()"
   ]
  },
  {
   "cell_type": "code",
   "execution_count": 25,
   "id": "6622f56f",
   "metadata": {},
   "outputs": [],
   "source": [
    "MAX_TEXT_SEQ = 21"
   ]
  },
  {
   "cell_type": "code",
   "execution_count": 26,
   "id": "d1b7cf8e",
   "metadata": {},
   "outputs": [
    {
     "data": {
      "text/plain": [
       "13927"
      ]
     },
     "execution_count": 26,
     "metadata": {},
     "output_type": "execute_result"
    }
   ],
   "source": [
    "MAX_TEXT = np.max([np.max(dtrain.text.apply(max)), np.max(dval.text.apply(max)),\n",
    "                   np.max(dtest.text.apply(max))])+2\n",
    "MAX_TEXT"
   ]
  },
  {
   "cell_type": "code",
   "execution_count": 27,
   "id": "fe31ac66",
   "metadata": {},
   "outputs": [],
   "source": [
    "class RnnModel:\n",
    "\n",
    "  def get_keras_data(self,dataset):\n",
    "    X = {\n",
    "        'text': pad_sequences(dataset.text, maxlen=MAX_TEXT_SEQ)\n",
    "    }\n",
    "    return X\n",
    "  \n",
    "  def get_model(self):\n",
    "    #params\n",
    "    dr_r = 0.15\n",
    "    \n",
    "    #Input\n",
    "    text = Input(shape=[X_train[\"text\"].shape[1]], name=\"text\")\n",
    "    \n",
    "    #Embeddings layer\n",
    "    emb_text = Embedding(MAX_TEXT, 50)(text)\n",
    "    \n",
    "    #rnn layer\n",
    "    rnn_layer1 = GRU(64) (emb_text)\n",
    "\n",
    "    main_l = rnn_layer1\n",
    "    main_l = Dropout(dr_r) (Dense(64) (main_l))\n",
    "    main_l = BatchNormalization() (main_l)\n",
    "    main_l = Dropout(dr_r) (Dense(32) (main_l))\n",
    "    main_l = BatchNormalization() (main_l)\n",
    "    main_l = Dropout(dr_r) (Dense(16) (main_l))\n",
    "    main_l = BatchNormalization() (main_l)\n",
    " \n",
    "    #output\n",
    "    output = Dense(12, activation=\"softmax\") (main_l)\n",
    "    \n",
    "    #model\n",
    "    model = Model([text], output)\n",
    "    model.compile(loss=\"categorical_crossentropy\", optimizer=\"adam\", metrics=[\"accuracy\"])\n",
    "    return model"
   ]
  },
  {
   "cell_type": "code",
   "execution_count": 28,
   "id": "c17e6c20",
   "metadata": {},
   "outputs": [],
   "source": [
    "mod=RnnModel()"
   ]
  },
  {
   "cell_type": "code",
   "execution_count": 29,
   "id": "38137906",
   "metadata": {},
   "outputs": [],
   "source": [
    "X_train = mod.get_keras_data(dtrain)\n",
    "X_valid = mod.get_keras_data(dval)\n",
    "X_test  = mod.get_keras_data(dtest)"
   ]
  },
  {
   "cell_type": "code",
   "execution_count": 31,
   "id": "cd7b2586",
   "metadata": {},
   "outputs": [
    {
     "data": {
      "text/plain": [
       "{'text': array([[   0,    0,    0, ...,    1,    5,    6],\n",
       "        [   0,    0,    0, ...,    9,    3,    4],\n",
       "        [   0,    0,    0, ..., 1201, 1022,  618],\n",
       "        ...,\n",
       "        [   0,    0,    0, ...,  101,  141,   68],\n",
       "        [   0,    0,    0, ...,    1,    5,    6],\n",
       "        [   0,    0,    0, ...,  636,   91,   57]])}"
      ]
     },
     "execution_count": 31,
     "metadata": {},
     "output_type": "execute_result"
    }
   ],
   "source": [
    "X_train"
   ]
  },
  {
   "cell_type": "code",
   "execution_count": 32,
   "id": "ef93e054",
   "metadata": {},
   "outputs": [],
   "source": [
    "model=mod.get_model()"
   ]
  },
  {
   "cell_type": "code",
   "execution_count": 33,
   "id": "ebafd344",
   "metadata": {},
   "outputs": [
    {
     "name": "stdout",
     "output_type": "stream",
     "text": [
      "Model: \"functional_1\"\n",
      "_________________________________________________________________\n",
      "Layer (type)                 Output Shape              Param #   \n",
      "=================================================================\n",
      "text (InputLayer)            [(None, 21)]              0         \n",
      "_________________________________________________________________\n",
      "embedding (Embedding)        (None, 21, 50)            696350    \n",
      "_________________________________________________________________\n",
      "gru (GRU)                    (None, 64)                22272     \n",
      "_________________________________________________________________\n",
      "dense (Dense)                (None, 64)                4160      \n",
      "_________________________________________________________________\n",
      "dropout (Dropout)            (None, 64)                0         \n",
      "_________________________________________________________________\n",
      "batch_normalization (BatchNo (None, 64)                256       \n",
      "_________________________________________________________________\n",
      "dense_1 (Dense)              (None, 32)                2080      \n",
      "_________________________________________________________________\n",
      "dropout_1 (Dropout)          (None, 32)                0         \n",
      "_________________________________________________________________\n",
      "batch_normalization_1 (Batch (None, 32)                128       \n",
      "_________________________________________________________________\n",
      "dense_2 (Dense)              (None, 16)                528       \n",
      "_________________________________________________________________\n",
      "dropout_2 (Dropout)          (None, 16)                0         \n",
      "_________________________________________________________________\n",
      "batch_normalization_2 (Batch (None, 16)                64        \n",
      "_________________________________________________________________\n",
      "dense_3 (Dense)              (None, 12)                204       \n",
      "=================================================================\n",
      "Total params: 726,042\n",
      "Trainable params: 725,818\n",
      "Non-trainable params: 224\n",
      "_________________________________________________________________\n"
     ]
    }
   ],
   "source": [
    "model.summary()"
   ]
  },
  {
   "cell_type": "code",
   "execution_count": 34,
   "id": "c939d2bc",
   "metadata": {},
   "outputs": [],
   "source": [
    "BATCH_SIZE = 32\n",
    "epochs = 15"
   ]
  },
  {
   "cell_type": "code",
   "execution_count": 35,
   "id": "1a0ae4bd",
   "metadata": {},
   "outputs": [],
   "source": [
    "ytrain = pd.get_dummies(dtrain.label).values\n",
    "yval = pd.get_dummies(dval.label).values\n",
    "ytest = pd.get_dummies(dtest.label).values"
   ]
  },
  {
   "cell_type": "code",
   "execution_count": 36,
   "id": "ca20947f",
   "metadata": {},
   "outputs": [
    {
     "name": "stdout",
     "output_type": "stream",
     "text": [
      "Epoch 1/15\n",
      "534/534 [==============================] - 7s 14ms/step - loss: 0.9420 - accuracy: 0.7443 - val_loss: 0.5422 - val_accuracy: 0.8974\n",
      "Epoch 2/15\n",
      "534/534 [==============================] - 7s 13ms/step - loss: 0.2600 - accuracy: 0.9404 - val_loss: 0.2768 - val_accuracy: 0.9236\n",
      "Epoch 3/15\n",
      "534/534 [==============================] - 7s 13ms/step - loss: 0.1272 - accuracy: 0.9715 - val_loss: 0.2772 - val_accuracy: 0.9286\n",
      "Epoch 4/15\n",
      "534/534 [==============================] - 7s 13ms/step - loss: 0.0873 - accuracy: 0.9795 - val_loss: 0.3627 - val_accuracy: 0.9120\n",
      "Epoch 5/15\n",
      "534/534 [==============================] - 7s 14ms/step - loss: 0.0733 - accuracy: 0.9814 - val_loss: 0.2933 - val_accuracy: 0.9283\n",
      "Epoch 6/15\n",
      "534/534 [==============================] - 7s 13ms/step - loss: 0.0625 - accuracy: 0.9835 - val_loss: 0.3286 - val_accuracy: 0.9243\n",
      "Epoch 7/15\n",
      "534/534 [==============================] - 7s 13ms/step - loss: 0.0511 - accuracy: 0.9865 - val_loss: 0.2956 - val_accuracy: 0.9276\n",
      "Epoch 8/15\n",
      "534/534 [==============================] - 7s 13ms/step - loss: 0.0418 - accuracy: 0.9896 - val_loss: 0.3816 - val_accuracy: 0.9153\n",
      "Epoch 9/15\n",
      "534/534 [==============================] - 7s 13ms/step - loss: 0.0365 - accuracy: 0.9904 - val_loss: 0.2993 - val_accuracy: 0.9322\n",
      "Epoch 10/15\n",
      "534/534 [==============================] - 8s 15ms/step - loss: 0.0359 - accuracy: 0.9906 - val_loss: 0.3051 - val_accuracy: 0.9362\n",
      "Epoch 11/15\n",
      "534/534 [==============================] - 8s 15ms/step - loss: 0.0384 - accuracy: 0.9906 - val_loss: 0.3012 - val_accuracy: 0.9356\n",
      "Epoch 12/15\n",
      "534/534 [==============================] - 8s 16ms/step - loss: 0.0302 - accuracy: 0.9931 - val_loss: 0.3071 - val_accuracy: 0.9349\n",
      "Epoch 13/15\n",
      "534/534 [==============================] - 7s 13ms/step - loss: 0.0305 - accuracy: 0.9917 - val_loss: 0.3252 - val_accuracy: 0.9372\n",
      "Epoch 14/15\n",
      "534/534 [==============================] - 7s 13ms/step - loss: 0.0290 - accuracy: 0.9921 - val_loss: 0.3697 - val_accuracy: 0.9283\n",
      "Epoch 15/15\n",
      "534/534 [==============================] - 7s 13ms/step - loss: 0.0269 - accuracy: 0.9928 - val_loss: 0.3652 - val_accuracy: 0.9283\n"
     ]
    },
    {
     "data": {
      "text/plain": [
       "<tensorflow.python.keras.callbacks.History at 0x182a57f0788>"
      ]
     },
     "execution_count": 36,
     "metadata": {},
     "output_type": "execute_result"
    }
   ],
   "source": [
    "model.fit(X_train, ytrain, epochs=epochs, batch_size=BATCH_SIZE,\n",
    "          validation_data=(X_valid, yval))"
   ]
  },
  {
   "cell_type": "code",
   "execution_count": 37,
   "id": "a4c87515",
   "metadata": {},
   "outputs": [
    {
     "name": "stdout",
     "output_type": "stream",
     "text": [
      "111/111 [==============================] - 0s 3ms/step - loss: 0.4253 - accuracy: 0.9179\n"
     ]
    },
    {
     "data": {
      "text/plain": [
       "[0.4253140091896057, 0.9178662300109863]"
      ]
     },
     "execution_count": 37,
     "metadata": {},
     "output_type": "execute_result"
    }
   ],
   "source": [
    "model.evaluate(X_test, ytest)"
   ]
  },
  {
   "cell_type": "code",
   "execution_count": null,
   "id": "21283182",
   "metadata": {},
   "outputs": [],
   "source": []
  }
 ],
 "metadata": {
  "kernelspec": {
   "display_name": "Python 3",
   "language": "python",
   "name": "python3"
  },
  "language_info": {
   "codemirror_mode": {
    "name": "ipython",
    "version": 3
   },
   "file_extension": ".py",
   "mimetype": "text/x-python",
   "name": "python",
   "nbconvert_exporter": "python",
   "pygments_lexer": "ipython3",
   "version": "3.7.10"
  }
 },
 "nbformat": 4,
 "nbformat_minor": 5
}
